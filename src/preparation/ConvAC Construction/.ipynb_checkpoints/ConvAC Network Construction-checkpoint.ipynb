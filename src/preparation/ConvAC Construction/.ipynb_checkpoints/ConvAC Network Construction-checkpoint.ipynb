{
 "cells": [
  {
   "cell_type": "code",
   "execution_count": 4,
   "metadata": {},
   "outputs": [],
   "source": [
    "#借鉴github上wclemens1实现的ConvAC熟悉一下该网络的构建 \n",
    "#https://github.com/wclemens1/CNN_vs_ConvAC/blob/master/CNNvsConvAC.ipynb\n",
    "#对比CNN与ConvAC\n",
    "import numpy as np\n",
    "import tensorflow as tf\n",
    "import matplotlib.pyplot as plt\n",
    "\n",
    "from keras.models import Model,load_model\n",
    "from keras.layers import Dense, Dropout, Lambda, Flatten, Conv2D,MaxPool2D, Input, AveragePooling2D\n",
    "from keras.optimizers import Adam, RMSprop\n",
    "\n",
    "from keras.utils.np_utils import to_categorical\n",
    "from keras.preprocessing.image import ImageDataGenerator\n",
    "import keras.backend as K\n",
    "from keras.engine.topology import Layer\n",
    "from keras.datasets import mnist\n",
    "\n",
    "(X_train, y_train), (X_test, y_test) = mnist.load_data()\n",
    "\n",
    "assert K.image_data_format() == \"channels_last\"\n",
    "\n",
    "#to_categorical() 用于将类别标签转换为one-hot encoding\n",
    "y_train = to_categorical(y_train)\n",
    "y_test = to_categorical(y_test)\n",
    "\n",
    "X_train = np.reshape(X_train,(-1,28,28,1))/255\n",
    "X_test = np.reshape(X_test,(-1,28,28,1))/255"
   ]
  },
  {
   "cell_type": "code",
   "execution_count": 7,
   "metadata": {},
   "outputs": [
    {
     "data": {
      "text/plain": [
       "(60000, 28, 28, 1)"
      ]
     },
     "execution_count": 7,
     "metadata": {},
     "output_type": "execute_result"
    }
   ],
   "source": [
    "X_train.shape"
   ]
  },
  {
   "cell_type": "code",
   "execution_count": 14,
   "metadata": {},
   "outputs": [
    {
     "data": {
      "text/plain": [
       "\"\\ndata_iter = datagen.flow(X_train,y_train,batch_size=8)\\nwhile True:\\n    x_batch,y_batch = data_iter.next()\\n    for i in range(8):\\n        print(i//4)\\n        plt.subplot(2,4,i+1)\\n        plt.imshow(x_batch[i].reshape(28,28),cmap='gray')\\n    plt.show()\\n\""
      ]
     },
     "execution_count": 14,
     "metadata": {},
     "output_type": "execute_result"
    }
   ],
   "source": [
    "#定义迭代算法和数据增强的内容\n",
    "optimizer = RMSprop(lr=0.001,rho=0.9,epsilon=1e-08,decay=0.0)\n",
    "\n",
    "#进行数据增强，提高模型的泛化能力\n",
    "datagen = ImageDataGenerator(featurewise_center=False,#输入均值置零零\n",
    "                            samplewise_center=False,#样本均值置零\n",
    "                            featurewise_std_normalization=False,#通过数据集标准差划分输入\n",
    "                            samplewise_std_normalization=False,#通过输入的标准差划分输入\n",
    "                            zca_whitening=False,#使用ZCA白化\n",
    "                            rotation_range=10,#随机旋转图片的角度（0 to 180）\n",
    "                            zoom_range=0.1,#\n",
    "                            width_shift_range=0.1,\n",
    "                            height_shift_range=0.1,\n",
    "                            horizontal_flip=False,\n",
    "                            vertical_flip=False)\n",
    "datagen.fit(X_train)\n",
    "'''\n",
    "data_iter = datagen.flow(X_train,y_train,batch_size=8)\n",
    "while True:\n",
    "    x_batch,y_batch = data_iter.next()\n",
    "    for i in range(8):\n",
    "        print(i//4)\n",
    "        plt.subplot(2,4,i+1)\n",
    "        plt.imshow(x_batch[i].reshape(28,28),cmap='gray')\n",
    "    plt.show()\n",
    "'''"
   ]
  },
  {
   "cell_type": "code",
   "execution_count": 17,
   "metadata": {},
   "outputs": [],
   "source": [
    "'''\n",
    "搭建一个简单的cnn网络\n",
    "'''\n",
    "input_image = Input(shape = (28,28,1))\n",
    "\n",
    "X1 = Conv2D(32,(3,3),activation=\"relu\",padding=\"same\")(input_image)\n",
    "X1 = MaxPool2D(pool_size=(2,2))(X1)\n",
    "X1 = Dropout(0.25)(X1)\n",
    "\n",
    "X1 = Conv2D(64,(3,3),activation=\"relu\",padding=\"same\")(X1)\n",
    "X1 = MaxPool2D(pool_size=(2,2))(X1)\n",
    "X1 = Dropout(0.25)(X1)\n",
    "\n",
    "X1 = Flatten()(X1)\n",
    "X1 = Dense(256,activation=\"relu\")(X1)\n",
    "X1 = Dropout(0.5)(X1)\n",
    "CNN_output = Dense(10,activation=\"softmax\")(X1)\n",
    "\n",
    "CNN_model = Model(input_image,CNN_output)\n",
    "CNN_model.compile(optimizer=optimizer,\n",
    "                 loss=\"categorical_crossentropy\",\n",
    "                 metrics = [\"accuracy\"])"
   ]
  },
  {
   "cell_type": "code",
   "execution_count": 19,
   "metadata": {},
   "outputs": [
    {
     "name": "stdout",
     "output_type": "stream",
     "text": [
      "Epoch 1/3\n",
      "600/600 [==============================] - 141s 234ms/step - loss: 0.1130 - acc: 0.9666\n",
      "Epoch 2/3\n",
      "600/600 [==============================] - 136s 227ms/step - loss: 0.0992 - acc: 0.9707\n",
      "Epoch 3/3\n",
      "600/600 [==============================] - 146s 243ms/step - loss: 0.0916 - acc: 0.9734\n"
     ]
    },
    {
     "data": {
      "text/plain": [
       "<keras.callbacks.History at 0x1d981c71320>"
      ]
     },
     "execution_count": 19,
     "metadata": {},
     "output_type": "execute_result"
    }
   ],
   "source": [
    "epochs = 3\n",
    "batch_size = 100\n",
    "CNN_model.fit_generator(datagen.flow(X_train,y_train,batch_size=batch_size),\n",
    "                       epochs = epochs,\n",
    "                       verbose = 1,\n",
    "                       steps_per_epoch = X_train.shape[0] // batch_size)"
   ]
  },
  {
   "cell_type": "code",
   "execution_count": 20,
   "metadata": {},
   "outputs": [
    {
     "name": "stdout",
     "output_type": "stream",
     "text": [
      "10000/10000 [==============================] - 6s 636us/step\n"
     ]
    },
    {
     "data": {
      "text/plain": [
       "[0.02589370626998134, 0.992]"
      ]
     },
     "execution_count": 20,
     "metadata": {},
     "output_type": "execute_result"
    }
   ],
   "source": [
    "CNN_model.evaluate(x=X_test,y=y_test)"
   ]
  },
  {
   "cell_type": "code",
   "execution_count": 21,
   "metadata": {},
   "outputs": [],
   "source": [
    "X2 = Conv2D(32,(3,3),padding=\"same\")(input_image)\n",
    "X2 = MaxPool2D(pool_size=(2,2))(X2)\n",
    "X2 = Lambda(lambda x:2*2*x)(X2)\n",
    "X2 = Dropout(0.25)(X2)\n",
    "\n",
    "X2 = Conv2D(64,(3,3),padding=\"same\")(X2)\n",
    "X2 = MaxPool2D(pool_size=(2,2))(X2)\n",
    "X2 = Lambda(lambda x:2*2*x)(X2)\n",
    "X2 = Dropout(0.25)(X2)\n",
    "\n",
    "X2 = Flatten()(X2)\n",
    "X2 = Dense(256,activation=\"relu\")(X2)\n",
    "X2 = Dropout(0.5)(X2)\n",
    "ConvAC = Dense(10,activation=\"softmax\")(X2)\n",
    "\n",
    "ConvAC_model = Model(input_image,ConvAC)\n",
    "ConvAC_model.compile(optimizer=optimizer,\n",
    "                    loss = \"categorical_crossentropy\",\n",
    "                    metrics = [\"accuracy\"])"
   ]
  },
  {
   "cell_type": "code",
   "execution_count": 22,
   "metadata": {},
   "outputs": [
    {
     "name": "stdout",
     "output_type": "stream",
     "text": [
      "Epoch 1/3\n",
      "600/600 [==============================] - 138s 229ms/step - loss: 0.5051 - acc: 0.8468\n",
      "Epoch 2/3\n",
      "600/600 [==============================] - 135s 226ms/step - loss: 0.2271 - acc: 0.9334\n",
      "Epoch 3/3\n",
      "600/600 [==============================] - 149s 248ms/step - loss: 0.1916 - acc: 0.9451\n"
     ]
    },
    {
     "data": {
      "text/plain": [
       "<keras.callbacks.History at 0x1d9c7cfbf28>"
      ]
     },
     "execution_count": 22,
     "metadata": {},
     "output_type": "execute_result"
    }
   ],
   "source": [
    "ConvAC_model.fit_generator(datagen.flow(X_train, y_train, batch_size=batch_size),\n",
    "                        epochs = epochs,\n",
    "                        verbose = 1,\n",
    "                        steps_per_epoch = X_train.shape[0] // batch_size)"
   ]
  },
  {
   "cell_type": "code",
   "execution_count": 23,
   "metadata": {},
   "outputs": [
    {
     "name": "stdout",
     "output_type": "stream",
     "text": [
      "10000/10000 [==============================] - 7s 666us/step\n"
     ]
    },
    {
     "data": {
      "text/plain": [
       "[0.05761433718447879, 0.9805]"
      ]
     },
     "execution_count": 23,
     "metadata": {},
     "output_type": "execute_result"
    }
   ],
   "source": [
    "ConvAC_model.evaluate(x=X_test,y=y_test)"
   ]
  },
  {
   "cell_type": "code",
   "execution_count": null,
   "metadata": {},
   "outputs": [],
   "source": []
  }
 ],
 "metadata": {
  "kernelspec": {
   "display_name": "Python 3",
   "language": "python",
   "name": "python3"
  },
  "language_info": {
   "codemirror_mode": {
    "name": "ipython",
    "version": 3
   },
   "file_extension": ".py",
   "mimetype": "text/x-python",
   "name": "python",
   "nbconvert_exporter": "python",
   "pygments_lexer": "ipython3",
   "version": "3.6.4"
  },
  "latex_envs": {
   "LaTeX_envs_menu_present": true,
   "autoclose": false,
   "autocomplete": true,
   "bibliofile": "biblio.bib",
   "cite_by": "apalike",
   "current_citInitial": 1,
   "eqLabelWithNumbers": true,
   "eqNumInitial": 1,
   "hotkeys": {
    "equation": "Ctrl-E",
    "itemize": "Ctrl-I"
   },
   "labels_anchors": false,
   "latex_user_defs": false,
   "report_style_numbering": false,
   "user_envs_cfg": false
  }
 },
 "nbformat": 4,
 "nbformat_minor": 2
}
