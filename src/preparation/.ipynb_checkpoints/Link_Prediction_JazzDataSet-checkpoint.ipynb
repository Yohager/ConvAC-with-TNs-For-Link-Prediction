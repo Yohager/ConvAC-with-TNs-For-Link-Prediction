{
 "cells": [
  {
   "cell_type": "code",
   "execution_count": null,
   "metadata": {},
   "outputs": [],
   "source": [
    "# 读取jazz数据集\n",
    "import os\n",
    "import numpy as np\n",
    "import pandas as pd\n",
    "import networkx as nx\n",
    "import matplotlib.pyplot as plt\n",
    "file_name = \"Jazz.txt\"\n",
    "data = []\n",
    "for line in open(file_name,'r'):\n",
    "    data.append([int(i) for i in line.split()])"
   ]
  },
  {
   "cell_type": "code",
   "execution_count": 4,
   "metadata": {},
   "outputs": [],
   "source": [
    "jazz_data = np.array(data) #将数据转为array格式方便读取"
   ]
  },
  {
   "cell_type": "code",
   "execution_count": 5,
   "metadata": {},
   "outputs": [
    {
     "data": {
      "text/plain": [
       "array([[  1,   8,   1],\n",
       "       [  1,  24,   1],\n",
       "       [  1,  35,   1],\n",
       "       ...,\n",
       "       [167, 198,   1],\n",
       "       [176, 198,   1],\n",
       "       [184, 198,   1]])"
      ]
     },
     "execution_count": 5,
     "metadata": {},
     "output_type": "execute_result"
    }
   ],
   "source": [
    "jazz_data"
   ]
  },
  {
   "cell_type": "code",
   "execution_count": 6,
   "metadata": {},
   "outputs": [],
   "source": [
    "jazz_data_use = jazz_data[:,:2]#由于是一个无权图，因此只需要考虑顶点之间的连边不需要考虑权重"
   ]
  },
  {
   "cell_type": "code",
   "execution_count": 7,
   "metadata": {},
   "outputs": [
    {
     "data": {
      "text/plain": [
       "array([[  1,   8],\n",
       "       [  1,  24],\n",
       "       [  1,  35],\n",
       "       ...,\n",
       "       [167, 198],\n",
       "       [176, 198],\n",
       "       [184, 198]])"
      ]
     },
     "execution_count": 7,
     "metadata": {},
     "output_type": "execute_result"
    }
   ],
   "source": [
    "jazz_data_use"
   ]
  },
  {
   "cell_type": "code",
   "execution_count": 8,
   "metadata": {},
   "outputs": [],
   "source": [
    "#编写一个函数用于将类似于jazz_data_use的数据改写为邻接矩阵的形式\n",
    "def data2adjacent_matrix(data,dimension):\n",
    "    adj_matrix = np.zeros([dimension,dimension])\n",
    "    for i in jazz_data_use:\n",
    "        k,j=i[0]-1,i[1]-1\n",
    "        adj_matrix[k,j] = 1\n",
    "        adj_matrix[j,k] = 1\n",
    "    return adj_matrix"
   ]
  },
  {
   "cell_type": "code",
   "execution_count": 9,
   "metadata": {},
   "outputs": [
    {
     "data": {
      "text/plain": [
       "198"
      ]
     },
     "execution_count": 9,
     "metadata": {},
     "output_type": "execute_result"
    }
   ],
   "source": [
    "#计算jazz数据集的节点数量\n",
    "dimension_jazz = np.max(jazz_data_use)\n",
    "dimension_jazz"
   ]
  },
  {
   "cell_type": "code",
   "execution_count": 10,
   "metadata": {},
   "outputs": [
    {
     "data": {
      "text/plain": [
       "array([[0., 0., 0., ..., 0., 0., 0.],\n",
       "       [0., 0., 0., ..., 0., 0., 0.],\n",
       "       [0., 0., 0., ..., 0., 0., 0.],\n",
       "       ...,\n",
       "       [0., 0., 0., ..., 0., 1., 0.],\n",
       "       [0., 0., 0., ..., 1., 0., 0.],\n",
       "       [0., 0., 0., ..., 0., 0., 0.]])"
      ]
     },
     "execution_count": 10,
     "metadata": {},
     "output_type": "execute_result"
    }
   ],
   "source": [
    "adj_matrix_jazz = data2adjacent_matrix(jazz_data_use,dimension_jazz)\n",
    "adj_matrix_jazz"
   ]
  },
  {
   "cell_type": "code",
   "execution_count": 11,
   "metadata": {},
   "outputs": [],
   "source": [
    "#使用networkx和matplotlib绘制jazz数据集图像\n",
    "def plot_graph(data,dimension):\n",
    "    vertexs = list(range(1,dimension+1))\n",
    "    edges = []\n",
    "    for i in data:\n",
    "        edges.append(tuple(i))\n",
    "    G = nx.Graph()\n",
    "    G.add_nodes_from(vertexs)\n",
    "    G.add_edges_from(edges)\n",
    "    #print(\"输出全部节点：{}\".format(G.nodes()))\n",
    "    #print(\"输出全部边：{}\".format(G.edges()))\n",
    "    #print(\"输出全部边的数量：{}\".format(G.number_of_edges()))\n",
    "    nx.draw(G,with_labels=False,node_size=100)\n",
    "    plt.show() "
   ]
  },
  {
   "cell_type": "code",
   "execution_count": 12,
   "metadata": {},
   "outputs": [],
   "source": [
    "#绘制出jazz数据集的图像\n",
    "data_to_plot = jazz_data_use.tolist()\n",
    "#plot_graph(data_to_plot,dimension_jazz)"
   ]
  },
  {
   "cell_type": "code",
   "execution_count": 18,
   "metadata": {},
   "outputs": [],
   "source": [
    "#进行训练集和验证集的划分\n",
    "def divide_dataset(data,rate):\n",
    "    data_divide = np.array(data)\n",
    "    np.random.shuffle(data_divide)\n",
    "    #print(data_divide)\n",
    "    divide_num = int(len(data_divide)*rate)\n",
    "    data_train = data_divide[:divide_num,:]\n",
    "    data_valid = data_divide[divide_num:,:]\n",
    "    return data_train,data_valid"
   ]
  },
  {
   "cell_type": "code",
   "execution_count": 19,
   "metadata": {},
   "outputs": [],
   "source": [
    "rate = 0.8\n",
    "data_training,data_testing = divide_dataset(jazz_data_use,rate)"
   ]
  },
  {
   "cell_type": "code",
   "execution_count": 24,
   "metadata": {},
   "outputs": [
    {
     "data": {
      "text/plain": [
       "True"
      ]
     },
     "execution_count": 24,
     "metadata": {},
     "output_type": "execute_result"
    }
   ],
   "source": [
    "#构建评价指标\n",
    "def construct_score_matrix(data,method):\n",
    "    dimension = np.max(data)\n",
    "    #依据连边数据构建邻接矩阵\n",
    "    adj_matrix = data2adjacent_matrix(data,dimension)\n",
    "    #初始化邻居矩阵和得分矩阵\n",
    "    cn_matrix = np.zeros((dimension,dimension))\n",
    "    score_matrix = np.zeros((dimension,dimension))\n",
    "    for i in range(dimension):\n",
    "        for j in range(i,dimension):\n",
    "            cn_matrix[i,j] = np.sum(adj_matrix[i] + adj_matrix[j] == 2)\n",
    "            cn_matrix[j,i] = np.sum(adj_matrix[i] + adj_matrix[j] == 2)\n",
    "    \n",
    "    "
   ]
  },
  {
   "cell_type": "code",
   "execution_count": 26,
   "metadata": {},
   "outputs": [],
   "source": [
    "a = np.array([1,1,1,1,0])\n",
    "b = np.array([0,0,1,1,0])"
   ]
  },
  {
   "cell_type": "code",
   "execution_count": 27,
   "metadata": {},
   "outputs": [
    {
     "data": {
      "text/plain": [
       "2"
      ]
     },
     "execution_count": 27,
     "metadata": {},
     "output_type": "execute_result"
    }
   ],
   "source": [
    "np.sum(a+b == 2)"
   ]
  },
  {
   "cell_type": "code",
   "execution_count": null,
   "metadata": {},
   "outputs": [],
   "source": []
  }
 ],
 "metadata": {
  "kernelspec": {
   "display_name": "Python 3",
   "language": "python",
   "name": "python3"
  },
  "language_info": {
   "codemirror_mode": {
    "name": "ipython",
    "version": 3
   },
   "file_extension": ".py",
   "mimetype": "text/x-python",
   "name": "python",
   "nbconvert_exporter": "python",
   "pygments_lexer": "ipython3",
   "version": "3.6.4"
  },
  "latex_envs": {
   "LaTeX_envs_menu_present": true,
   "autoclose": false,
   "autocomplete": true,
   "bibliofile": "biblio.bib",
   "cite_by": "apalike",
   "current_citInitial": 1,
   "eqLabelWithNumbers": true,
   "eqNumInitial": 1,
   "hotkeys": {
    "equation": "Ctrl-E",
    "itemize": "Ctrl-I"
   },
   "labels_anchors": false,
   "latex_user_defs": false,
   "report_style_numbering": false,
   "user_envs_cfg": false
  }
 },
 "nbformat": 4,
 "nbformat_minor": 2
}
