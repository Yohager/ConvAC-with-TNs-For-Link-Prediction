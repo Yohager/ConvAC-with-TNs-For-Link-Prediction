{
 "cells": [
  {
   "cell_type": "code",
   "execution_count": 2,
   "metadata": {},
   "outputs": [],
   "source": [
    "#熟悉一些tensor的计算\n",
    "import numpy as np\n",
    "matrix_a = np.array([[1,2],[3,4]])\n",
    "matrix_b = np.array([[5,6,7],[8,9,10],[10,11,12]])"
   ]
  },
  {
   "cell_type": "code",
   "execution_count": 3,
   "metadata": {},
   "outputs": [],
   "source": [
    "dimension_a = matrix_a.shape\n",
    "dimension_b = matrix_b.shape"
   ]
  },
  {
   "cell_type": "code",
   "execution_count": 4,
   "metadata": {},
   "outputs": [
    {
     "data": {
      "text/plain": [
       "array([[ 5,  6,  7, 10, 12, 14],\n",
       "       [ 8,  9, 10, 16, 18, 20],\n",
       "       [10, 11, 12, 20, 22, 24],\n",
       "       [15, 18, 21, 20, 24, 28],\n",
       "       [24, 27, 30, 32, 36, 40],\n",
       "       [30, 33, 36, 40, 44, 48]])"
      ]
     },
     "execution_count": 4,
     "metadata": {},
     "output_type": "execute_result"
    }
   ],
   "source": [
    "#假设输入的两个矩阵分别是m1*m2和n1*n2，则进行kronecker积得到的新的矩阵的维度是m1n1 * m2*n2\n",
    "#进行外积计算的结果应该与kronecker积的结果一致(外积是kronecker积的一个特例)\n",
    "np.kron(matrix_a,matrix_b)"
   ]
  },
  {
   "cell_type": "code",
   "execution_count": 5,
   "metadata": {},
   "outputs": [
    {
     "data": {
      "text/plain": [
       "array([[ 5,  6,  7,  8,  9, 10, 10, 11, 12],\n",
       "       [10, 12, 14, 16, 18, 20, 20, 22, 24],\n",
       "       [15, 18, 21, 24, 27, 30, 30, 33, 36],\n",
       "       [20, 24, 28, 32, 36, 40, 40, 44, 48]])"
      ]
     },
     "execution_count": 5,
     "metadata": {},
     "output_type": "execute_result"
    }
   ],
   "source": [
    "np.outer(matrix_a,matrix_b)"
   ]
  },
  {
   "cell_type": "code",
   "execution_count": 6,
   "metadata": {},
   "outputs": [
    {
     "data": {
      "text/plain": [
       "array([[ 5, 10,  6, 12,  7, 14],\n",
       "       [15, 20, 18, 24, 21, 28],\n",
       "       [ 8, 16,  9, 18, 10, 20],\n",
       "       [24, 32, 27, 36, 30, 40],\n",
       "       [10, 20, 11, 22, 12, 24],\n",
       "       [30, 40, 33, 44, 36, 48]])"
      ]
     },
     "execution_count": 6,
     "metadata": {},
     "output_type": "execute_result"
    }
   ],
   "source": [
    "np.kron(matrix_b,matrix_a)\n",
    "#kronecker积不满足交换律，交换顺序得到的结果维度相同，结果不同"
   ]
  },
  {
   "cell_type": "code",
   "execution_count": 7,
   "metadata": {},
   "outputs": [],
   "source": [
    "#计算khatri-Rao积：khatri-Rao积的计算方法是对两个输入矩阵展开为列向量分别进行kronecker积运算得到一个矩阵\n",
    "#要求输入的两个矩阵的列数一致，假设matrix_a：m*k,matrix_b：n*k\n",
    "#计算得到的新矩阵的维度为：mn * k\n",
    "matrix_c = np.array([[1,2],[3,4]])\n",
    "matrix_d = np.array([[5,6],[7,8],[9,10]])\n",
    "output_dim = [matrix_c.shape[0]* matrix_d.shape[0],matrix_c.shape[1]]\n",
    "matrix_khatri_Rao = np.empty(output_dim)\n",
    "for i in range(matrix_c.shape[1]):\n",
    "    matrix_khatri_Rao[:,i] = np.kron(matrix_c[:,i],matrix_d[:,i])"
   ]
  },
  {
   "cell_type": "code",
   "execution_count": 8,
   "metadata": {},
   "outputs": [
    {
     "data": {
      "text/plain": [
       "array([[ 5., 12.],\n",
       "       [ 7., 16.],\n",
       "       [ 9., 20.],\n",
       "       [15., 24.],\n",
       "       [21., 32.],\n",
       "       [27., 40.]])"
      ]
     },
     "execution_count": 8,
     "metadata": {},
     "output_type": "execute_result"
    }
   ],
   "source": [
    "matrix_khatri_Rao"
   ]
  },
  {
   "cell_type": "code",
   "execution_count": 9,
   "metadata": {},
   "outputs": [],
   "source": [
    "#计算矩阵之间的外积\n",
    "mat_1 = np.array([[1,2],[3,4]])\n",
    "mat_2 = np.array([[1,2],[3,4]])"
   ]
  },
  {
   "cell_type": "code",
   "execution_count": 12,
   "metadata": {},
   "outputs": [
    {
     "data": {
      "text/plain": [
       "array([[[[ 1,  2],\n",
       "         [ 3,  4]],\n",
       "\n",
       "        [[ 2,  4],\n",
       "         [ 6,  8]]],\n",
       "\n",
       "\n",
       "       [[[ 3,  6],\n",
       "         [ 9, 12]],\n",
       "\n",
       "        [[ 4,  8],\n",
       "         [12, 16]]]])"
      ]
     },
     "execution_count": 12,
     "metadata": {},
     "output_type": "execute_result"
    }
   ],
   "source": [
    "np.multiply.outer(mat_1,mat_2)"
   ]
  },
  {
   "cell_type": "code",
   "execution_count": null,
   "metadata": {},
   "outputs": [],
   "source": []
  }
 ],
 "metadata": {
  "kernelspec": {
   "display_name": "Python 3",
   "language": "python",
   "name": "python3"
  },
  "language_info": {
   "codemirror_mode": {
    "name": "ipython",
    "version": 3
   },
   "file_extension": ".py",
   "mimetype": "text/x-python",
   "name": "python",
   "nbconvert_exporter": "python",
   "pygments_lexer": "ipython3",
   "version": "3.6.4"
  },
  "latex_envs": {
   "LaTeX_envs_menu_present": true,
   "autoclose": false,
   "autocomplete": true,
   "bibliofile": "biblio.bib",
   "cite_by": "apalike",
   "current_citInitial": 1,
   "eqLabelWithNumbers": true,
   "eqNumInitial": 1,
   "hotkeys": {
    "equation": "Ctrl-E",
    "itemize": "Ctrl-I"
   },
   "labels_anchors": false,
   "latex_user_defs": false,
   "report_style_numbering": false,
   "user_envs_cfg": false
  }
 },
 "nbformat": 4,
 "nbformat_minor": 2
}
